{
 "cells": [
  {
   "cell_type": "code",
   "execution_count": 6,
   "metadata": {},
   "outputs": [
    {
     "name": "stdout",
     "output_type": "stream",
     "text": [
      "** Created LCL dataset in 0.00s **\n"
     ]
    }
   ],
   "source": [
    "# this may take a few minutes..\n",
    "%run prep.py"
   ]
  },
  {
   "cell_type": "code",
   "execution_count": 22,
   "metadata": {},
   "outputs": [],
   "source": [
    "from prep import data_dir\n",
    "\n",
    "import pandas as pd"
   ]
  },
  {
   "cell_type": "code",
   "execution_count": 8,
   "metadata": {},
   "outputs": [
    {
     "name": "stdout",
     "output_type": "stream",
     "text": [
      "<class 'pandas.core.frame.DataFrame'>\n",
      "RangeIndex: 1000000 entries, 0 to 999999\n",
      "Data columns (total 6 columns):\n",
      " #   Column                   Non-Null Count    Dtype \n",
      "---  ------                   --------------    ----- \n",
      " 0   LCLid                    1000000 non-null  object\n",
      " 1   stdorToU                 1000000 non-null  object\n",
      " 2   DateTime                 1000000 non-null  object\n",
      " 3   KWH/hh (per half hour)   1000000 non-null  object\n",
      " 4   Acorn                    1000000 non-null  object\n",
      " 5   Acorn_grouped            1000000 non-null  object\n",
      "dtypes: object(6)\n",
      "memory usage: 45.8+ MB\n"
     ]
    }
   ],
   "source": [
    "df = pd.read_csv(data_dir / \"low-carbon-london/1.csv\")\n",
    "\n",
    "df.info()"
   ]
  },
  {
   "cell_type": "code",
   "execution_count": 9,
   "metadata": {},
   "outputs": [
    {
     "data": {
      "text/plain": [
       "Index(['LCLid', 'stdorToU', 'DateTime', 'KWH/hh (per half hour) ', 'Acorn',\n",
       "       'Acorn_grouped'],\n",
       "      dtype='object')"
      ]
     },
     "execution_count": 9,
     "metadata": {},
     "output_type": "execute_result"
    }
   ],
   "source": [
    "df.columns"
   ]
  },
  {
   "cell_type": "code",
   "execution_count": 10,
   "metadata": {},
   "outputs": [
    {
     "data": {
      "text/plain": [
       "MAC000018    39082\n",
       "MAC000021    39079\n",
       "MAC000020    39079\n",
       "MAC000022    39072\n",
       "MAC000033    39071\n",
       "Name: LCLid, dtype: int64"
      ]
     },
     "execution_count": 10,
     "metadata": {},
     "output_type": "execute_result"
    }
   ],
   "source": [
    "# category\n",
    "df[\"LCLid\"].value_counts().head()"
   ]
  },
  {
   "cell_type": "code",
   "execution_count": 11,
   "metadata": {},
   "outputs": [
    {
     "data": {
      "text/plain": [
       "Std    1000000\n",
       "Name: stdorToU, dtype: int64"
      ]
     },
     "execution_count": 11,
     "metadata": {},
     "output_type": "execute_result"
    }
   ],
   "source": [
    "# category, could make it a bool though\n",
    "df.stdorToU.value_counts()"
   ]
  },
  {
   "cell_type": "code",
   "execution_count": 12,
   "metadata": {},
   "outputs": [
    {
     "data": {
      "text/plain": [
       "0         2012-10-12 00:30:00.0000000\n",
       "1         2012-10-12 01:00:00.0000000\n",
       "2         2012-10-12 01:30:00.0000000\n",
       "3         2012-10-12 02:00:00.0000000\n",
       "4         2012-10-12 02:30:00.0000000\n",
       "                     ...             \n",
       "999995    2012-11-08 08:00:00.0000000\n",
       "999996    2012-11-08 08:30:00.0000000\n",
       "999997    2012-11-08 09:00:00.0000000\n",
       "999998    2012-11-08 09:30:00.0000000\n",
       "999999    2012-11-08 10:00:00.0000000\n",
       "Name: DateTime, Length: 1000000, dtype: object"
      ]
     },
     "execution_count": 12,
     "metadata": {},
     "output_type": "execute_result"
    }
   ],
   "source": [
    "# timeseries (pd.to_datetime)\n",
    "df.DateTime"
   ]
  },
  {
   "cell_type": "code",
   "execution_count": 13,
   "metadata": {},
   "outputs": [
    {
     "data": {
      "text/plain": [
       "0        2012-10-12 00:30:00\n",
       "1        2012-10-12 01:00:00\n",
       "2        2012-10-12 01:30:00\n",
       "3        2012-10-12 02:00:00\n",
       "4        2012-10-12 02:30:00\n",
       "                 ...        \n",
       "999995   2012-11-08 08:00:00\n",
       "999996   2012-11-08 08:30:00\n",
       "999997   2012-11-08 09:00:00\n",
       "999998   2012-11-08 09:30:00\n",
       "999999   2012-11-08 10:00:00\n",
       "Name: DateTime, Length: 1000000, dtype: datetime64[ns]"
      ]
     },
     "execution_count": 13,
     "metadata": {},
     "output_type": "execute_result"
    }
   ],
   "source": [
    "pd.to_datetime(df.DateTime)"
   ]
  },
  {
   "cell_type": "code",
   "execution_count": 14,
   "metadata": {},
   "outputs": [
    {
     "data": {
      "text/plain": [
       "0              0 \n",
       "1              0 \n",
       "2              0 \n",
       "3              0 \n",
       "4              0 \n",
       "           ...   \n",
       "999995     0.228 \n",
       "999996     0.042 \n",
       "999997     0.076 \n",
       "999998      0.07 \n",
       "999999     0.005 \n",
       "Name: KWH/hh (per half hour) , Length: 1000000, dtype: object"
      ]
     },
     "execution_count": 14,
     "metadata": {},
     "output_type": "execute_result"
    }
   ],
   "source": [
    "# consumption (kwh)\n",
    "df[\"KWH/hh (per half hour) \"]"
   ]
  },
  {
   "cell_type": "code",
   "execution_count": 15,
   "metadata": {},
   "outputs": [
    {
     "data": {
      "text/plain": [
       "3238      0.36 \n",
       "3239     0.233 \n",
       "3240       Null\n",
       "3241     0.147 \n",
       "3242     0.133 \n",
       "Name: KWH/hh (per half hour) , dtype: object"
      ]
     },
     "execution_count": 15,
     "metadata": {},
     "output_type": "execute_result"
    }
   ],
   "source": [
    "# some rows have \"Null\" instead of float\n",
    "df[\"KWH/hh (per half hour) \"].iloc[3238:3243]"
   ]
  },
  {
   "cell_type": "code",
   "execution_count": 16,
   "metadata": {},
   "outputs": [
    {
     "data": {
      "text/plain": [
       "0         0.000\n",
       "1         0.000\n",
       "2         0.000\n",
       "3         0.000\n",
       "4         0.000\n",
       "          ...  \n",
       "999995    0.228\n",
       "999996    0.042\n",
       "999997    0.076\n",
       "999998    0.070\n",
       "999999    0.005\n",
       "Name: KWH/hh (per half hour) , Length: 1000000, dtype: float32"
      ]
     },
     "execution_count": 16,
     "metadata": {},
     "output_type": "execute_result"
    }
   ],
   "source": [
    "# coerce to numeric, fillna and downcast\n",
    "pd.to_numeric(df[\"KWH/hh (per half hour) \"], errors=\"coerce\", downcast=\"float\").fillna(0)"
   ]
  },
  {
   "cell_type": "code",
   "execution_count": 17,
   "metadata": {},
   "outputs": [
    {
     "data": {
      "text/plain": [
       "ACORN-E    339033\n",
       "ACORN-Q    114602\n",
       "ACORN-P    113598\n",
       "ACORN-K     88209\n",
       "ACORN-J     78148\n",
       "ACORN-H     76108\n",
       "ACORN-A     63225\n",
       "ACORN-U     39069\n",
       "ACORN-D     39065\n",
       "ACORN-L     25238\n",
       "ACORN-N     23705\n",
       "Name: Acorn, dtype: int64"
      ]
     },
     "execution_count": 17,
     "metadata": {},
     "output_type": "execute_result"
    }
   ],
   "source": [
    "# category\n",
    "df.Acorn.value_counts()"
   ]
  },
  {
   "cell_type": "code",
   "execution_count": 18,
   "metadata": {},
   "outputs": [
    {
     "data": {
      "text/plain": [
       "Affluent       441323\n",
       "Adversity      365352\n",
       "Comfortable    154256\n",
       "ACORN-U         39069\n",
       "Name: Acorn_grouped, dtype: int64"
      ]
     },
     "execution_count": 18,
     "metadata": {},
     "output_type": "execute_result"
    }
   ],
   "source": [
    "# category\n",
    "df[\"Acorn_grouped\"].value_counts()"
   ]
  },
  {
   "cell_type": "code",
   "execution_count": 19,
   "metadata": {},
   "outputs": [
    {
     "name": "stdout",
     "output_type": "stream",
     "text": [
      "<class 'pandas.core.frame.DataFrame'>\n",
      "RangeIndex: 1000000 entries, 0 to 999999\n",
      "Data columns (total 6 columns):\n",
      " #   Column         Non-Null Count    Dtype         \n",
      "---  ------         --------------    -----         \n",
      " 0   lclid          1000000 non-null  category      \n",
      " 1   stdortou       1000000 non-null  category      \n",
      " 2   dt             1000000 non-null  datetime64[ns]\n",
      " 3   c              1000000 non-null  float32       \n",
      " 4   acorn          1000000 non-null  category      \n",
      " 5   acorn_grouped  1000000 non-null  category      \n",
      "dtypes: category(4), datetime64[ns](1), float32(1)\n",
      "memory usage: 15.3 MB\n"
     ]
    }
   ],
   "source": [
    "columns = [\"lclid\", \"stdortou\", \"dt\", \"c\", \"acorn\", \"acorn_grouped\"]\n",
    "\n",
    "df2 = pd.read_csv(\n",
    "    data_dir / \"low-carbon-london/1.csv\",\n",
    "    dtype={\n",
    "        \"lclid\": \"category\",\n",
    "        \"stdortou\": \"category\",\n",
    "        \"acorn\": \"category\",\n",
    "        \"acorn_grouped\": \"category\"\n",
    "    },\n",
    "    parse_dates=[\"dt\"],\n",
    "    names=columns,\n",
    "    header=0\n",
    ")\n",
    "\n",
    "df2[\"c\"] = (\n",
    "    pd.to_numeric(df2[\"c\"], errors=\"coerce\", downcast=\"float\")\n",
    "    .fillna(0)\n",
    ")\n",
    "\n",
    "df2.info()"
   ]
  },
  {
   "cell_type": "code",
   "execution_count": 20,
   "metadata": {},
   "outputs": [
    {
     "data": {
      "text/html": [
       "<div>\n",
       "<style scoped>\n",
       "    .dataframe tbody tr th:only-of-type {\n",
       "        vertical-align: middle;\n",
       "    }\n",
       "\n",
       "    .dataframe tbody tr th {\n",
       "        vertical-align: top;\n",
       "    }\n",
       "\n",
       "    .dataframe thead th {\n",
       "        text-align: right;\n",
       "    }\n",
       "</style>\n",
       "<table border=\"1\" class=\"dataframe\">\n",
       "  <thead>\n",
       "    <tr style=\"text-align: right;\">\n",
       "      <th></th>\n",
       "      <th>lclid</th>\n",
       "      <th>stdortou</th>\n",
       "      <th>dt</th>\n",
       "      <th>c</th>\n",
       "      <th>acorn</th>\n",
       "      <th>acorn_grouped</th>\n",
       "    </tr>\n",
       "  </thead>\n",
       "  <tbody>\n",
       "    <tr>\n",
       "      <th>999995</th>\n",
       "      <td>MAC000036</td>\n",
       "      <td>Std</td>\n",
       "      <td>2012-11-08 08:00:00</td>\n",
       "      <td>0.228</td>\n",
       "      <td>ACORN-E</td>\n",
       "      <td>Affluent</td>\n",
       "    </tr>\n",
       "    <tr>\n",
       "      <th>999996</th>\n",
       "      <td>MAC000036</td>\n",
       "      <td>Std</td>\n",
       "      <td>2012-11-08 08:30:00</td>\n",
       "      <td>0.042</td>\n",
       "      <td>ACORN-E</td>\n",
       "      <td>Affluent</td>\n",
       "    </tr>\n",
       "    <tr>\n",
       "      <th>999997</th>\n",
       "      <td>MAC000036</td>\n",
       "      <td>Std</td>\n",
       "      <td>2012-11-08 09:00:00</td>\n",
       "      <td>0.076</td>\n",
       "      <td>ACORN-E</td>\n",
       "      <td>Affluent</td>\n",
       "    </tr>\n",
       "    <tr>\n",
       "      <th>999998</th>\n",
       "      <td>MAC000036</td>\n",
       "      <td>Std</td>\n",
       "      <td>2012-11-08 09:30:00</td>\n",
       "      <td>0.070</td>\n",
       "      <td>ACORN-E</td>\n",
       "      <td>Affluent</td>\n",
       "    </tr>\n",
       "    <tr>\n",
       "      <th>999999</th>\n",
       "      <td>MAC000036</td>\n",
       "      <td>Std</td>\n",
       "      <td>2012-11-08 10:00:00</td>\n",
       "      <td>0.005</td>\n",
       "      <td>ACORN-E</td>\n",
       "      <td>Affluent</td>\n",
       "    </tr>\n",
       "  </tbody>\n",
       "</table>\n",
       "</div>"
      ],
      "text/plain": [
       "            lclid stdortou                  dt      c    acorn acorn_grouped\n",
       "999995  MAC000036      Std 2012-11-08 08:00:00  0.228  ACORN-E      Affluent\n",
       "999996  MAC000036      Std 2012-11-08 08:30:00  0.042  ACORN-E      Affluent\n",
       "999997  MAC000036      Std 2012-11-08 09:00:00  0.076  ACORN-E      Affluent\n",
       "999998  MAC000036      Std 2012-11-08 09:30:00  0.070  ACORN-E      Affluent\n",
       "999999  MAC000036      Std 2012-11-08 10:00:00  0.005  ACORN-E      Affluent"
      ]
     },
     "execution_count": 20,
     "metadata": {},
     "output_type": "execute_result"
    }
   ],
   "source": [
    "df2.tail()"
   ]
  },
  {
   "cell_type": "code",
   "execution_count": null,
   "metadata": {},
   "outputs": [],
   "source": [
    "columns = [\n",
    "    \"lclid\",\n",
    "    \"stdortou\",\n",
    "    \"dt\",\n",
    "    \"c\",\n",
    "    \"acorn\",\n",
    "    \"acorn_grouped\",\n",
    "]\n",
    "\n",
    "ddf = dd.read_csv(\n",
    "    DATA_DIR / \"low-carbon-london/*.csv\",\n",
    "    dtype={\n",
    "        \"lclid\": \"string\",\n",
    "        \"stdortou\": \"category\",\n",
    "        \"acorn\": \"category\",\n",
    "        \"acorn_grouped\": \"category\"\n",
    "    },\n",
    "    parse_dates=[\"dt\"],\n",
    "    names=columns,\n",
    "    header=0,\n",
    "    usecols=[\"lclid\", \"dt\", \"c\", \"acorn\"]\n",
    ")\n",
    "\n",
    "ddf.c = (\n",
    "    ddf.c.map_partitions(pd.to_numeric, errors=\"coerce\", downcast=\"float\")\n",
    "    .fillna(0)\n",
    ")\n",
    "\n",
    "ddf.to_parquet(\n",
    "    data_dir / \"lcl.snappy.parquet\",\n",
    "    compression=\"snappy\",\n",
    ")"
   ]
  }
 ],
 "metadata": {
  "kernelspec": {
   "display_name": "Python 3",
   "language": "python",
   "name": "python3"
  },
  "language_info": {
   "codemirror_mode": {
    "name": "ipython",
    "version": 3
   },
   "file_extension": ".py",
   "mimetype": "text/x-python",
   "name": "python",
   "nbconvert_exporter": "python",
   "pygments_lexer": "ipython3",
   "version": "3.7.6"
  }
 },
 "nbformat": 4,
 "nbformat_minor": 4
}
