{
 "cells": [
  {
   "cell_type": "code",
   "execution_count": 39,
   "metadata": {},
   "outputs": [],
   "source": [
    "import datetime\n",
    "\n",
    "import pandas as pd\n",
    "import pywt\n",
    "from pyspark.sql import SparkSession\n",
    "from pyspark.sql.types import StructType, StructField, StringType, TimestampType, FloatType, IntegerType, ArrayType\n",
    "from pyspark.sql import functions as F\n",
    "from pyspark.ml.linalg import Vectors, VectorUDT"
   ]
  },
  {
   "cell_type": "code",
   "execution_count": 2,
   "metadata": {},
   "outputs": [],
   "source": [
    "spark = SparkSession.builder.getOrCreate()"
   ]
  },
  {
   "cell_type": "code",
   "execution_count": 24,
   "metadata": {},
   "outputs": [],
   "source": [
    "schema = StructType([\n",
    "    StructField(\"a\", IntegerType()),\n",
    "    StructField(\"b\", IntegerType()),\n",
    "    StructField(\"c\", IntegerType()),\n",
    "    StructField(\"d\", ArrayType(FloatType()))\n",
    "])"
   ]
  },
  {
   "cell_type": "code",
   "execution_count": 25,
   "metadata": {},
   "outputs": [
    {
     "name": "stdout",
     "output_type": "stream",
     "text": [
      "+---+---+---+--------------------+\n",
      "|  a|  b|  c|                   d|\n",
      "+---+---+---+--------------------+\n",
      "|  1|  2|  3|[0.1, 0.2, 0.3, 0.4]|\n",
      "|  1|  2|  3|[0.1, 0.2, 0.3, 0.4]|\n",
      "|  1|  2|  3|[0.1, 0.2, 0.3, 0.4]|\n",
      "+---+---+---+--------------------+\n",
      "\n"
     ]
    }
   ],
   "source": [
    "rows = [\n",
    "    [1, 2, 3, [0.1, 0.2, 0.3, 0.4]],\n",
    "    [1, 2, 3, [0.1, 0.2, 0.3, 0.4]],\n",
    "    [1, 2, 3, [0.1, 0.2, 0.3, 0.4]]\n",
    "]\n",
    "\n",
    "df = spark.createDataFrame(data=rows, schema=schema)\n",
    "df.show()"
   ]
  },
  {
   "cell_type": "code",
   "execution_count": 74,
   "metadata": {},
   "outputs": [],
   "source": [
    "import numpy as np\n",
    "\n",
    "@F.udf(returnType=VectorUDT())\n",
    "def tovector(x):\n",
    "    return Vectors.dense(x)\n",
    "\n",
    "@F.udf(returnType=ArrayType(FloatType()))\n",
    "def dwt(x):\n",
    "    cA, _ = pywt.dwt(x, wavelet=\"haar\")\n",
    "    return cA.tolist()"
   ]
  },
  {
   "cell_type": "code",
   "execution_count": 78,
   "metadata": {},
   "outputs": [
    {
     "name": "stdout",
     "output_type": "stream",
     "text": [
      "+----------------------------------------+\n",
      "|tovector(dwt(d))                        |\n",
      "+----------------------------------------+\n",
      "|[0.2121320375169779,0.49497475947463787]|\n",
      "|[0.2121320375169779,0.49497475947463787]|\n",
      "|[0.2121320375169779,0.49497475947463787]|\n",
      "+----------------------------------------+\n",
      "\n"
     ]
    }
   ],
   "source": [
    "df.select(tovector(dwt(\"d\"))).show(truncate=False)"
   ]
  }
 ],
 "metadata": {
  "kernelspec": {
   "display_name": "Python 3",
   "language": "python",
   "name": "python3"
  },
  "language_info": {
   "codemirror_mode": {
    "name": "ipython",
    "version": 3
   },
   "file_extension": ".py",
   "mimetype": "text/x-python",
   "name": "python",
   "nbconvert_exporter": "python",
   "pygments_lexer": "ipython3",
   "version": "3.8.3"
  }
 },
 "nbformat": 4,
 "nbformat_minor": 4
}
