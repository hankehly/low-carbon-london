{
 "cells": [
  {
   "cell_type": "code",
   "execution_count": 1,
   "metadata": {},
   "outputs": [
    {
     "name": "stdout",
     "output_type": "stream",
     "text": [
      "** Created LCL dataset in 0.00s **\n"
     ]
    }
   ],
   "source": [
    "# this may take a few minutes..\n",
    "%run prep.py"
   ]
  },
  {
   "cell_type": "code",
   "execution_count": null,
   "metadata": {},
   "outputs": [],
   "source": [
    "from prep import data_dir\n",
    "\n",
    "import dask\n",
    "import dask.dataframe as dd\n",
    "from dask.distributed import Client\n",
    "\n",
    "import pandas as pd"
   ]
  },
  {
   "cell_type": "code",
   "execution_count": 2,
   "metadata": {},
   "outputs": [
    {
     "data": {
      "text/html": [
       "<table style=\"border: 2px solid white;\">\n",
       "<tr>\n",
       "<td style=\"vertical-align: top; border: 0px solid white\">\n",
       "<h3 style=\"text-align: left;\">Client</h3>\n",
       "<ul style=\"text-align: left; list-style: none; margin: 0; padding: 0;\">\n",
       "  <li><b>Scheduler: </b>tcp://127.0.0.1:50987</li>\n",
       "  <li><b>Dashboard: </b><a href='http://127.0.0.1:8787/status' target='_blank'>http://127.0.0.1:8787/status</a>\n",
       "</ul>\n",
       "</td>\n",
       "<td style=\"vertical-align: top; border: 0px solid white\">\n",
       "<h3 style=\"text-align: left;\">Cluster</h3>\n",
       "<ul style=\"text-align: left; list-style:none; margin: 0; padding: 0;\">\n",
       "  <li><b>Workers: </b>4</li>\n",
       "  <li><b>Cores: </b>8</li>\n",
       "  <li><b>Memory: </b>17.18 GB</li>\n",
       "</ul>\n",
       "</td>\n",
       "</tr>\n",
       "</table>"
      ],
      "text/plain": [
       "<Client: 'tcp://127.0.0.1:50987' processes=4 threads=8, memory=17.18 GB>"
      ]
     },
     "execution_count": 2,
     "metadata": {},
     "output_type": "execute_result"
    }
   ],
   "source": [
    "client = Client()\n",
    "client"
   ]
  },
  {
   "cell_type": "code",
   "execution_count": 7,
   "metadata": {},
   "outputs": [],
   "source": [
    "client.close()"
   ]
  },
  {
   "cell_type": "code",
   "execution_count": 3,
   "metadata": {},
   "outputs": [],
   "source": [
    "columns = [\n",
    "    \"lclid\",\n",
    "    \"stdortou\",\n",
    "    \"dt\",\n",
    "    \"c\",\n",
    "    \"acorn\",\n",
    "    \"acorn_grouped\"\n",
    "]\n",
    "\n",
    "ddf = dd.read_csv(\n",
    "    data_dir / \"low-carbon-london/*.csv\",\n",
    "    dtype={\n",
    "#         \"lclid\": \"string\",\n",
    "        \"lclid\": str,\n",
    "        \"stdortou\": \"category\",\n",
    "        \"acorn\": \"category\",\n",
    "        \"acorn_grouped\": \"category\"\n",
    "    },\n",
    "    parse_dates=[\"dt\"],\n",
    "    names=columns,\n",
    "    header=0\n",
    ")\n",
    "\n",
    "ddf.c = (\n",
    "    ddf.c.map_partitions(pd.to_numeric, errors=\"coerce\", downcast=\"float\")\n",
    "    .fillna(0)\n",
    ")"
   ]
  },
  {
   "cell_type": "code",
   "execution_count": 5,
   "metadata": {},
   "outputs": [],
   "source": [
    "ddf.to_parquet(\n",
    "    data_dir / \"lcl.snappy.parquet\",\n",
    "    compression=\"snappy\",\n",
    "    write_index=False,\n",
    ")"
   ]
  },
  {
   "cell_type": "code",
   "execution_count": 7,
   "metadata": {},
   "outputs": [],
   "source": [
    "ddf = dd.read_parquet(\n",
    "    data_dir / \"lcl.snappy.parquet\",\n",
    ")"
   ]
  },
  {
   "cell_type": "code",
   "execution_count": null,
   "metadata": {},
   "outputs": [],
   "source": [
    "%%time\n",
    "df = ddf.compute()"
   ]
  },
  {
   "cell_type": "code",
   "execution_count": null,
   "metadata": {},
   "outputs": [],
   "source": [
    "df.shape[0]"
   ]
  },
  {
   "cell_type": "code",
   "execution_count": 7,
   "metadata": {},
   "outputs": [
    {
     "data": {
      "text/plain": [
       "lclid                    string\n",
       "stdortou               category\n",
       "dt               datetime64[ns]\n",
       "c                       float32\n",
       "acorn                  category\n",
       "acorn_grouped          category\n",
       "dtype: object"
      ]
     },
     "execution_count": 7,
     "metadata": {},
     "output_type": "execute_result"
    }
   ],
   "source": [
    "df.dtypes"
   ]
  },
  {
   "cell_type": "code",
   "execution_count": 19,
   "metadata": {},
   "outputs": [
    {
     "name": "stdout",
     "output_type": "stream",
     "text": [
      "<class 'pandas.core.frame.DataFrame'>\n",
      "Int64Index: 167932474 entries, 0 to 73085\n",
      "Data columns (total 6 columns):\n",
      " #   Column         Dtype         \n",
      "---  ------         -----         \n",
      " 0   lclid          string        \n",
      " 1   stdortou       category      \n",
      " 2   dt             datetime64[ns]\n",
      " 3   c              float32       \n",
      " 4   acorn          category      \n",
      " 5   acorn_grouped  category      \n",
      "dtypes: category(3), datetime64[ns](1), float32(1), string(1)\n",
      "memory usage: 4.8 GB\n"
     ]
    }
   ],
   "source": [
    "df.info()"
   ]
  },
  {
   "cell_type": "code",
   "execution_count": 35,
   "metadata": {},
   "outputs": [
    {
     "ename": "ValueError",
     "evalue": "all arrays must be same length",
     "output_type": "error",
     "traceback": [
      "\u001b[0;31m---------------------------------------------------------------------------\u001b[0m",
      "\u001b[0;31mValueError\u001b[0m                                Traceback (most recent call last)",
      "\u001b[0;32m<ipython-input-35-930859078069>\u001b[0m in \u001b[0;36m<module>\u001b[0;34m\u001b[0m\n\u001b[0;32m----> 1\u001b[0;31m \u001b[0mdf\u001b[0m\u001b[0;34m.\u001b[0m\u001b[0miloc\u001b[0m\u001b[0;34m[\u001b[0m\u001b[0;34m:\u001b[0m\u001b[0;36m10000\u001b[0m\u001b[0;34m]\u001b[0m\u001b[0;34m.\u001b[0m\u001b[0mset_index\u001b[0m\u001b[0;34m(\u001b[0m\u001b[0;34m[\u001b[0m\u001b[0;34m\"dt\"\u001b[0m\u001b[0;34m,\u001b[0m \u001b[0;34m\"acorn\"\u001b[0m\u001b[0;34m]\u001b[0m\u001b[0;34m)\u001b[0m\u001b[0;34m.\u001b[0m\u001b[0mto_xarray\u001b[0m\u001b[0;34m(\u001b[0m\u001b[0;34m)\u001b[0m\u001b[0;34m\u001b[0m\u001b[0;34m\u001b[0m\u001b[0m\n\u001b[0m",
      "\u001b[0;32m~/src/low-carbon-london/.venv/lib/python3.7/site-packages/pandas/core/generic.py\u001b[0m in \u001b[0;36mto_xarray\u001b[0;34m(self)\u001b[0m\n\u001b[1;32m   2866\u001b[0m             \u001b[0;32mreturn\u001b[0m \u001b[0mxarray\u001b[0m\u001b[0;34m.\u001b[0m\u001b[0mDataArray\u001b[0m\u001b[0;34m.\u001b[0m\u001b[0mfrom_series\u001b[0m\u001b[0;34m(\u001b[0m\u001b[0mself\u001b[0m\u001b[0;34m)\u001b[0m\u001b[0;34m\u001b[0m\u001b[0;34m\u001b[0m\u001b[0m\n\u001b[1;32m   2867\u001b[0m         \u001b[0;32melse\u001b[0m\u001b[0;34m:\u001b[0m\u001b[0;34m\u001b[0m\u001b[0;34m\u001b[0m\u001b[0m\n\u001b[0;32m-> 2868\u001b[0;31m             \u001b[0;32mreturn\u001b[0m \u001b[0mxarray\u001b[0m\u001b[0;34m.\u001b[0m\u001b[0mDataset\u001b[0m\u001b[0;34m.\u001b[0m\u001b[0mfrom_dataframe\u001b[0m\u001b[0;34m(\u001b[0m\u001b[0mself\u001b[0m\u001b[0;34m)\u001b[0m\u001b[0;34m\u001b[0m\u001b[0;34m\u001b[0m\u001b[0m\n\u001b[0m\u001b[1;32m   2869\u001b[0m \u001b[0;34m\u001b[0m\u001b[0m\n\u001b[1;32m   2870\u001b[0m     \u001b[0;34m@\u001b[0m\u001b[0mSubstitution\u001b[0m\u001b[0;34m(\u001b[0m\u001b[0mreturns\u001b[0m\u001b[0;34m=\u001b[0m\u001b[0mfmt\u001b[0m\u001b[0;34m.\u001b[0m\u001b[0mreturn_docstring\u001b[0m\u001b[0;34m)\u001b[0m\u001b[0;34m\u001b[0m\u001b[0;34m\u001b[0m\u001b[0m\n",
      "\u001b[0;32m~/src/low-carbon-london/.venv/lib/python3.7/site-packages/xarray/core/dataset.py\u001b[0m in \u001b[0;36mfrom_dataframe\u001b[0;34m(cls, dataframe, sparse)\u001b[0m\n\u001b[1;32m   4553\u001b[0m             \u001b[0;32mraise\u001b[0m \u001b[0mValueError\u001b[0m\u001b[0;34m(\u001b[0m\u001b[0;34m\"cannot convert DataFrame with non-unique columns\"\u001b[0m\u001b[0;34m)\u001b[0m\u001b[0;34m\u001b[0m\u001b[0;34m\u001b[0m\u001b[0m\n\u001b[1;32m   4554\u001b[0m \u001b[0;34m\u001b[0m\u001b[0m\n\u001b[0;32m-> 4555\u001b[0;31m         \u001b[0midx\u001b[0m \u001b[0;34m=\u001b[0m \u001b[0mremove_unused_levels_categories\u001b[0m\u001b[0;34m(\u001b[0m\u001b[0mdataframe\u001b[0m\u001b[0;34m.\u001b[0m\u001b[0mindex\u001b[0m\u001b[0;34m)\u001b[0m\u001b[0;34m\u001b[0m\u001b[0;34m\u001b[0m\u001b[0m\n\u001b[0m\u001b[1;32m   4556\u001b[0m         \u001b[0mdataframe\u001b[0m \u001b[0;34m=\u001b[0m \u001b[0mdataframe\u001b[0m\u001b[0;34m.\u001b[0m\u001b[0mset_index\u001b[0m\u001b[0;34m(\u001b[0m\u001b[0midx\u001b[0m\u001b[0;34m)\u001b[0m\u001b[0;34m\u001b[0m\u001b[0;34m\u001b[0m\u001b[0m\n\u001b[1;32m   4557\u001b[0m         \u001b[0mobj\u001b[0m \u001b[0;34m=\u001b[0m \u001b[0mcls\u001b[0m\u001b[0;34m(\u001b[0m\u001b[0;34m)\u001b[0m\u001b[0;34m\u001b[0m\u001b[0;34m\u001b[0m\u001b[0m\n",
      "\u001b[0;32m~/src/low-carbon-london/.venv/lib/python3.7/site-packages/xarray/core/indexes.py\u001b[0m in \u001b[0;36mremove_unused_levels_categories\u001b[0;34m(index)\u001b[0m\n\u001b[1;32m     24\u001b[0m                     \u001b[0mlevel\u001b[0m \u001b[0;34m=\u001b[0m \u001b[0mlevel\u001b[0m\u001b[0;34m[\u001b[0m\u001b[0mindex\u001b[0m\u001b[0;34m.\u001b[0m\u001b[0mcodes\u001b[0m\u001b[0;34m[\u001b[0m\u001b[0mi\u001b[0m\u001b[0;34m]\u001b[0m\u001b[0;34m]\u001b[0m\u001b[0;34m.\u001b[0m\u001b[0mremove_unused_categories\u001b[0m\u001b[0;34m(\u001b[0m\u001b[0;34m)\u001b[0m\u001b[0;34m\u001b[0m\u001b[0;34m\u001b[0m\u001b[0m\n\u001b[1;32m     25\u001b[0m                 \u001b[0mlevels\u001b[0m\u001b[0;34m.\u001b[0m\u001b[0mappend\u001b[0m\u001b[0;34m(\u001b[0m\u001b[0mlevel\u001b[0m\u001b[0;34m)\u001b[0m\u001b[0;34m\u001b[0m\u001b[0;34m\u001b[0m\u001b[0m\n\u001b[0;32m---> 26\u001b[0;31m             \u001b[0mindex\u001b[0m \u001b[0;34m=\u001b[0m \u001b[0mpd\u001b[0m\u001b[0;34m.\u001b[0m\u001b[0mMultiIndex\u001b[0m\u001b[0;34m.\u001b[0m\u001b[0mfrom_arrays\u001b[0m\u001b[0;34m(\u001b[0m\u001b[0mlevels\u001b[0m\u001b[0;34m,\u001b[0m \u001b[0mnames\u001b[0m\u001b[0;34m=\u001b[0m\u001b[0mindex\u001b[0m\u001b[0;34m.\u001b[0m\u001b[0mnames\u001b[0m\u001b[0;34m)\u001b[0m\u001b[0;34m\u001b[0m\u001b[0;34m\u001b[0m\u001b[0m\n\u001b[0m\u001b[1;32m     27\u001b[0m     \u001b[0;32melif\u001b[0m \u001b[0misinstance\u001b[0m\u001b[0;34m(\u001b[0m\u001b[0mindex\u001b[0m\u001b[0;34m,\u001b[0m \u001b[0mpd\u001b[0m\u001b[0;34m.\u001b[0m\u001b[0mCategoricalIndex\u001b[0m\u001b[0;34m)\u001b[0m\u001b[0;34m:\u001b[0m\u001b[0;34m\u001b[0m\u001b[0;34m\u001b[0m\u001b[0m\n\u001b[1;32m     28\u001b[0m         \u001b[0mindex\u001b[0m \u001b[0;34m=\u001b[0m \u001b[0mindex\u001b[0m\u001b[0;34m.\u001b[0m\u001b[0mremove_unused_categories\u001b[0m\u001b[0;34m(\u001b[0m\u001b[0;34m)\u001b[0m\u001b[0;34m\u001b[0m\u001b[0;34m\u001b[0m\u001b[0m\n",
      "\u001b[0;32m~/src/low-carbon-london/.venv/lib/python3.7/site-packages/pandas/core/indexes/multi.py\u001b[0m in \u001b[0;36mfrom_arrays\u001b[0;34m(cls, arrays, sortorder, names)\u001b[0m\n\u001b[1;32m    423\u001b[0m         \u001b[0;32mfor\u001b[0m \u001b[0mi\u001b[0m \u001b[0;32min\u001b[0m \u001b[0mrange\u001b[0m\u001b[0;34m(\u001b[0m\u001b[0;36m1\u001b[0m\u001b[0;34m,\u001b[0m \u001b[0mlen\u001b[0m\u001b[0;34m(\u001b[0m\u001b[0marrays\u001b[0m\u001b[0;34m)\u001b[0m\u001b[0;34m)\u001b[0m\u001b[0;34m:\u001b[0m\u001b[0;34m\u001b[0m\u001b[0;34m\u001b[0m\u001b[0m\n\u001b[1;32m    424\u001b[0m             \u001b[0;32mif\u001b[0m \u001b[0mlen\u001b[0m\u001b[0;34m(\u001b[0m\u001b[0marrays\u001b[0m\u001b[0;34m[\u001b[0m\u001b[0mi\u001b[0m\u001b[0;34m]\u001b[0m\u001b[0;34m)\u001b[0m \u001b[0;34m!=\u001b[0m \u001b[0mlen\u001b[0m\u001b[0;34m(\u001b[0m\u001b[0marrays\u001b[0m\u001b[0;34m[\u001b[0m\u001b[0mi\u001b[0m \u001b[0;34m-\u001b[0m \u001b[0;36m1\u001b[0m\u001b[0;34m]\u001b[0m\u001b[0;34m)\u001b[0m\u001b[0;34m:\u001b[0m\u001b[0;34m\u001b[0m\u001b[0;34m\u001b[0m\u001b[0m\n\u001b[0;32m--> 425\u001b[0;31m                 \u001b[0;32mraise\u001b[0m \u001b[0mValueError\u001b[0m\u001b[0;34m(\u001b[0m\u001b[0;34m\"all arrays must be same length\"\u001b[0m\u001b[0;34m)\u001b[0m\u001b[0;34m\u001b[0m\u001b[0;34m\u001b[0m\u001b[0m\n\u001b[0m\u001b[1;32m    426\u001b[0m \u001b[0;34m\u001b[0m\u001b[0m\n\u001b[1;32m    427\u001b[0m         \u001b[0mcodes\u001b[0m\u001b[0;34m,\u001b[0m \u001b[0mlevels\u001b[0m \u001b[0;34m=\u001b[0m \u001b[0mfactorize_from_iterables\u001b[0m\u001b[0;34m(\u001b[0m\u001b[0marrays\u001b[0m\u001b[0;34m)\u001b[0m\u001b[0;34m\u001b[0m\u001b[0;34m\u001b[0m\u001b[0m\n",
      "\u001b[0;31mValueError\u001b[0m: all arrays must be same length"
     ]
    }
   ],
   "source": [
    "df.iloc[:10000].set_index([\"dt\", \"acorn\"]).to_xarray()"
   ]
  },
  {
   "cell_type": "code",
   "execution_count": 23,
   "metadata": {},
   "outputs": [],
   "source": [
    "client.close()"
   ]
  },
  {
   "cell_type": "code",
   "execution_count": 30,
   "metadata": {},
   "outputs": [
    {
     "data": {
      "text/plain": [
       "<matplotlib.axes._subplots.AxesSubplot at 0x11b7c30d0>"
      ]
     },
     "execution_count": 30,
     "metadata": {},
     "output_type": "execute_result"
    },
    {
     "data": {
      "image/png": "[encoded data removed]",
      "text/plain": [
       "<Figure size 432x288 with 1 Axes>"
      ]
     },
     "metadata": {
      "needs_background": "light"
     },
     "output_type": "display_data"
    }
   ],
   "source": [
    "df.groupby(\"acorn_grouped\").c.mean().plot(kind=\"bar\")"
   ]
  },
  {
   "cell_type": "code",
   "execution_count": 38,
   "metadata": {},
   "outputs": [
    {
     "data": {
      "text/plain": [
       "<matplotlib.axes._subplots.AxesSubplot at 0x11bf311d0>"
      ]
     },
     "execution_count": 38,
     "metadata": {},
     "output_type": "execute_result"
    },
    {
     "data": {
      "image/png": "[encoded data removed]",
      "text/plain": [
       "<Figure size 432x288 with 1 Axes>"
      ]
     },
     "metadata": {
      "needs_background": "light"
     },
     "output_type": "display_data"
    }
   ],
   "source": [
    "df.groupby(\"acorn\").c.mean().plot(kind=\"bar\")"
   ]
  },
  {
   "cell_type": "code",
   "execution_count": 32,
   "metadata": {},
   "outputs": [
    {
     "data": {
      "text/plain": [
       "Affluent       67359986\n",
       "Adversity      54288852\n",
       "Comfortable    44833553\n",
       "ACORN-U         1412799\n",
       "ACORN-            37284\n",
       "Name: acorn_grouped, dtype: int64"
      ]
     },
     "execution_count": 32,
     "metadata": {},
     "output_type": "execute_result"
    }
   ],
   "source": [
    "df.acorn_grouped.value_counts()"
   ]
  },
  {
   "cell_type": "code",
   "execution_count": 33,
   "metadata": {},
   "outputs": [],
   "source": [
    "aff = df[df.acorn_grouped == \"Affluent\"].copy()"
   ]
  },
  {
   "cell_type": "code",
   "execution_count": 36,
   "metadata": {},
   "outputs": [
    {
     "data": {
      "text/plain": [
       "ACORN-E    48930543\n",
       "ACORN-D     9041565\n",
       "ACORN-A     4451704\n",
       "ACORN-C     4244081\n",
       "ACORN-B      692093\n",
       "ACORN-K           0\n",
       "ACORN-H           0\n",
       "ACORN-P           0\n",
       "ACORN-Q           0\n",
       "ACORN-L           0\n",
       "ACORN-N           0\n",
       "ACORN-            0\n",
       "ACORN-J           0\n",
       "ACORN-M           0\n",
       "ACORN-F           0\n",
       "ACORN-O           0\n",
       "ACORN-G           0\n",
       "ACORN-I           0\n",
       "ACORN-U           0\n",
       "Name: acorn, dtype: int64"
      ]
     },
     "execution_count": 36,
     "metadata": {},
     "output_type": "execute_result"
    }
   ],
   "source": [
    "aff.acorn.value_counts()"
   ]
  },
  {
   "cell_type": "code",
   "execution_count": 47,
   "metadata": {},
   "outputs": [
    {
     "data": {
      "text/plain": [
       "<matplotlib.axes._subplots.AxesSubplot at 0x11c05ead0>"
      ]
     },
     "execution_count": 47,
     "metadata": {},
     "output_type": "execute_result"
    },
    {
     "data": {
      "image/png": "[encoded data removed]",
      "text/plain": [
       "<Figure size 432x288 with 1 Axes>"
      ]
     },
     "metadata": {
      "needs_background": "light"
     },
     "output_type": "display_data"
    }
   ],
   "source": [
    "aff.groupby(aff.dt.dt.month).c.mean().plot()"
   ]
  },
  {
   "cell_type": "code",
   "execution_count": 48,
   "metadata": {},
   "outputs": [
    {
     "data": {
      "text/plain": [
       "<matplotlib.axes._subplots.AxesSubplot at 0x11c13a450>"
      ]
     },
     "execution_count": 48,
     "metadata": {},
     "output_type": "execute_result"
    },
    {
     "data": {
      "image/png": "[encoded data removed]",
      "text/plain": [
       "<Figure size 432x288 with 1 Axes>"
      ]
     },
     "metadata": {
      "needs_background": "light"
     },
     "output_type": "display_data"
    }
   ],
   "source": [
    "aff.groupby(aff.dt.dt.time).c.mean().plot()"
   ]
  },
  {
   "cell_type": "code",
   "execution_count": 54,
   "metadata": {},
   "outputs": [],
   "source": [
    "aff_wint = aff[(aff.dt.dt.month <= 3) | (aff.dt.dt.month >= 10)].copy()"
   ]
  },
  {
   "cell_type": "code",
   "execution_count": 56,
   "metadata": {},
   "outputs": [
    {
     "data": {
      "text/plain": [
       "<matplotlib.axes._subplots.AxesSubplot at 0x29b04f9d0>"
      ]
     },
     "execution_count": 56,
     "metadata": {},
     "output_type": "execute_result"
    },
    {
     "data": {
      "image/png": "[encoded data removed]",
      "text/plain": [
       "<Figure size 432x288 with 1 Axes>"
      ]
     },
     "metadata": {
      "needs_background": "light"
     },
     "output_type": "display_data"
    }
   ],
   "source": [
    "aff_wint.groupby(aff_wint.dt.dt.time).c.mean().plot()"
   ]
  },
  {
   "cell_type": "code",
   "execution_count": 57,
   "metadata": {},
   "outputs": [],
   "source": [
    "aff_summ = aff[(aff.dt.dt.month >= 7) & (aff.dt.dt.month < 10)].copy()"
   ]
  },
  {
   "cell_type": "code",
   "execution_count": 59,
   "metadata": {},
   "outputs": [
    {
     "data": {
      "text/plain": [
       "<matplotlib.axes._subplots.AxesSubplot at 0x3274af950>"
      ]
     },
     "execution_count": 59,
     "metadata": {},
     "output_type": "execute_result"
    },
    {
     "data": {
      "image/png": "[encoded data removed]",
      "text/plain": [
       "<Figure size 432x288 with 1 Axes>"
      ]
     },
     "metadata": {
      "needs_background": "light"
     },
     "output_type": "display_data"
    }
   ],
   "source": [
    "aff_summ.groupby(aff_summ.dt.dt.time).c.mean().plot()"
   ]
  },
  {
   "cell_type": "code",
   "execution_count": 121,
   "metadata": {},
   "outputs": [],
   "source": [
    "usage = np.random.rand(50, 3, 12, 48)\n",
    "\n",
    "slots = [\n",
    "    str(i // 2).zfill(2) + \":\" + str(30 if i % 2 else 0).zfill(2)\n",
    "    for i in range(48)\n",
    "]\n",
    "\n",
    "arr = xr.DataArray(\n",
    "    usage,\n",
    "    dims=(\"contract\", \"dayt\", \"month\", \"time\"),\n",
    "    coords={\n",
    "        \"dayt\": [\"BUS\", \"SAT\", \"HOL\"],\n",
    "        \"month\": list(range(1, 13)),\n",
    "        \"time\": slots,\n",
    "    },\n",
    "    name=\"usage\"\n",
    ")"
   ]
  },
  {
   "cell_type": "code",
   "execution_count": 128,
   "metadata": {},
   "outputs": [
    {
     "data": {
      "text/html": [
       "<pre>&lt;xarray.DataArray &#x27;usage&#x27; (contract: 50, time: 4)&gt;\n",
       "array([[0.70766666, 0.38667764, 0.27378588, 0.62565691],\n",
       "       [0.27673154, 0.55184617, 0.49771676, 0.48573871],\n",
       "       [0.390381  , 0.57959534, 0.61979555, 0.37222707],\n",
       "       [0.70779621, 0.34909789, 0.33620114, 0.44257752],\n",
       "       [0.40414249, 0.72032487, 0.68302864, 0.55884067],\n",
       "       [0.4945976 , 0.58488204, 0.39397607, 0.60149644],\n",
       "       [0.62790334, 0.61086251, 0.45513143, 0.69224782],\n",
       "       [0.33755817, 0.32647018, 0.34742072, 0.42032431],\n",
       "       [0.39618612, 0.66444499, 0.30757189, 0.57275477],\n",
       "       [0.44287448, 0.59166553, 0.57484619, 0.16583759],\n",
       "       [0.7073392 , 0.83764685, 0.32749383, 0.59335804],\n",
       "       [0.47416569, 0.5801027 , 0.54083647, 0.26136275],\n",
       "       [0.29558347, 0.62750876, 0.94621755, 0.31666121],\n",
       "       [0.67042842, 0.57442013, 0.32071162, 0.50463878],\n",
       "       [0.84447029, 0.58140472, 0.47342195, 0.55343056],\n",
       "       [0.21807902, 0.84451096, 0.47423645, 0.18886932],\n",
       "       [0.58043032, 0.42169353, 0.58301555, 0.33491677],\n",
       "       [0.44997689, 0.74678521, 0.73163736, 0.46193478],\n",
       "       [0.39737578, 0.42115797, 0.24177262, 0.74597886],\n",
       "       [0.53053061, 0.68744187, 0.44261563, 0.67687257],\n",
       "       [0.47955848, 0.55242842, 0.45702449, 0.71674085],\n",
       "       [0.48064361, 0.51547626, 0.39016603, 0.32034704],\n",
       "       [0.46921466, 0.34169636, 0.5336403 , 0.5831773 ],\n",
       "       [0.73495935, 0.66032774, 0.47688767, 0.37363409],\n",
       "       [0.63593574, 0.40781396, 0.76325564, 0.52744289],\n",
       "       [0.39734004, 0.65934787, 0.21558737, 0.71748162],\n",
       "       [0.62407467, 0.67528658, 0.41348671, 0.38285668],\n",
       "       [0.48884393, 0.44910987, 0.4807694 , 0.71629185],\n",
       "       [0.61224078, 0.53060621, 0.40492061, 0.44060096],\n",
       "       [0.69291882, 0.19975541, 0.59987339, 0.60770647],\n",
       "       [0.12455423, 0.24781799, 0.40631254, 0.43565862],\n",
       "       [0.67307409, 0.33937713, 0.90149613, 0.74370823],\n",
       "       [0.80028415, 0.55733251, 0.71876211, 0.74567391],\n",
       "       [0.30106259, 0.34175847, 0.54359014, 0.66507846],\n",
       "       [0.48087566, 0.77119506, 0.65230998, 0.75895779],\n",
       "       [0.94199005, 0.80103763, 0.57773976, 0.38453801],\n",
       "       [0.32499214, 0.79436631, 0.34991767, 0.27075264],\n",
       "       [0.88487764, 0.70181513, 0.47268657, 0.22029976],\n",
       "       [0.73923912, 0.49956937, 0.53681478, 0.6284885 ],\n",
       "       [0.24055979, 0.68536629, 0.69639517, 0.55727072],\n",
       "       [0.27534223, 0.4535825 , 0.48357552, 0.33886574],\n",
       "       [0.4998803 , 0.3145899 , 0.49381465, 0.72327979],\n",
       "       [0.31866259, 0.71521373, 0.48983077, 0.62476495],\n",
       "       [0.1575486 , 0.20912554, 0.68033316, 0.29098426],\n",
       "       [0.68235283, 0.20758718, 0.3235465 , 0.39204777],\n",
       "       [0.25208405, 0.62469551, 0.18297314, 0.500665  ],\n",
       "       [0.45167601, 0.58786992, 0.38182845, 0.39327832],\n",
       "       [0.25261788, 0.34448653, 0.47588634, 0.59445317],\n",
       "       [0.56249973, 0.33215365, 0.46948838, 0.42029491],\n",
       "       [0.71667747, 0.46344681, 0.73750724, 0.34054106]])\n",
       "Coordinates:\n",
       "    month    int64 1\n",
       "  * time     (time) &lt;U5 &#x27;08:00&#x27; &#x27;08:30&#x27; &#x27;09:00&#x27; &#x27;09:30&#x27;\n",
       "Dimensions without coordinates: contract</pre>"
      ],
      "text/plain": [
       "<xarray.DataArray 'usage' (contract: 50, time: 4)>\n",
       "array([[0.70766666, 0.38667764, 0.27378588, 0.62565691],\n",
       "       [0.27673154, 0.55184617, 0.49771676, 0.48573871],\n",
       "       [0.390381  , 0.57959534, 0.61979555, 0.37222707],\n",
       "       [0.70779621, 0.34909789, 0.33620114, 0.44257752],\n",
       "       [0.40414249, 0.72032487, 0.68302864, 0.55884067],\n",
       "       [0.4945976 , 0.58488204, 0.39397607, 0.60149644],\n",
       "       [0.62790334, 0.61086251, 0.45513143, 0.69224782],\n",
       "       [0.33755817, 0.32647018, 0.34742072, 0.42032431],\n",
       "       [0.39618612, 0.66444499, 0.30757189, 0.57275477],\n",
       "       [0.44287448, 0.59166553, 0.57484619, 0.16583759],\n",
       "       [0.7073392 , 0.83764685, 0.32749383, 0.59335804],\n",
       "       [0.47416569, 0.5801027 , 0.54083647, 0.26136275],\n",
       "       [0.29558347, 0.62750876, 0.94621755, 0.31666121],\n",
       "       [0.67042842, 0.57442013, 0.32071162, 0.50463878],\n",
       "       [0.84447029, 0.58140472, 0.47342195, 0.55343056],\n",
       "       [0.21807902, 0.84451096, 0.47423645, 0.18886932],\n",
       "       [0.58043032, 0.42169353, 0.58301555, 0.33491677],\n",
       "       [0.44997689, 0.74678521, 0.73163736, 0.46193478],\n",
       "       [0.39737578, 0.42115797, 0.24177262, 0.74597886],\n",
       "       [0.53053061, 0.68744187, 0.44261563, 0.67687257],\n",
       "       [0.47955848, 0.55242842, 0.45702449, 0.71674085],\n",
       "       [0.48064361, 0.51547626, 0.39016603, 0.32034704],\n",
       "       [0.46921466, 0.34169636, 0.5336403 , 0.5831773 ],\n",
       "       [0.73495935, 0.66032774, 0.47688767, 0.37363409],\n",
       "       [0.63593574, 0.40781396, 0.76325564, 0.52744289],\n",
       "       [0.39734004, 0.65934787, 0.21558737, 0.71748162],\n",
       "       [0.62407467, 0.67528658, 0.41348671, 0.38285668],\n",
       "       [0.48884393, 0.44910987, 0.4807694 , 0.71629185],\n",
       "       [0.61224078, 0.53060621, 0.40492061, 0.44060096],\n",
       "       [0.69291882, 0.19975541, 0.59987339, 0.60770647],\n",
       "       [0.12455423, 0.24781799, 0.40631254, 0.43565862],\n",
       "       [0.67307409, 0.33937713, 0.90149613, 0.74370823],\n",
       "       [0.80028415, 0.55733251, 0.71876211, 0.74567391],\n",
       "       [0.30106259, 0.34175847, 0.54359014, 0.66507846],\n",
       "       [0.48087566, 0.77119506, 0.65230998, 0.75895779],\n",
       "       [0.94199005, 0.80103763, 0.57773976, 0.38453801],\n",
       "       [0.32499214, 0.79436631, 0.34991767, 0.27075264],\n",
       "       [0.88487764, 0.70181513, 0.47268657, 0.22029976],\n",
       "       [0.73923912, 0.49956937, 0.53681478, 0.6284885 ],\n",
       "       [0.24055979, 0.68536629, 0.69639517, 0.55727072],\n",
       "       [0.27534223, 0.4535825 , 0.48357552, 0.33886574],\n",
       "       [0.4998803 , 0.3145899 , 0.49381465, 0.72327979],\n",
       "       [0.31866259, 0.71521373, 0.48983077, 0.62476495],\n",
       "       [0.1575486 , 0.20912554, 0.68033316, 0.29098426],\n",
       "       [0.68235283, 0.20758718, 0.3235465 , 0.39204777],\n",
       "       [0.25208405, 0.62469551, 0.18297314, 0.500665  ],\n",
       "       [0.45167601, 0.58786992, 0.38182845, 0.39327832],\n",
       "       [0.25261788, 0.34448653, 0.47588634, 0.59445317],\n",
       "       [0.56249973, 0.33215365, 0.46948838, 0.42029491],\n",
       "       [0.71667747, 0.46344681, 0.73750724, 0.34054106]])\n",
       "Coordinates:\n",
       "    month    int64 1\n",
       "  * time     (time) <U5 '08:00' '08:30' '09:00' '09:30'\n",
       "Dimensions without coordinates: contract"
      ]
     },
     "execution_count": 128,
     "metadata": {},
     "output_type": "execute_result"
    }
   ],
   "source": [
    "arr.sel(month=1, time=[\"08:00\", \"08:30\", \"09:00\", \"09:30\"]).mean(\"dayt\")"
   ]
  }
 ],
 "metadata": {
  "kernelspec": {
   "display_name": "Python 3",
   "language": "python",
   "name": "python3"
  },
  "language_info": {
   "codemirror_mode": {
    "name": "ipython",
    "version": 3
   },
   "file_extension": ".py",
   "mimetype": "text/x-python",
   "name": "python",
   "nbconvert_exporter": "python",
   "pygments_lexer": "ipython3",
   "version": "3.7.6"
  }
 },
 "nbformat": 4,
 "nbformat_minor": 4
}
