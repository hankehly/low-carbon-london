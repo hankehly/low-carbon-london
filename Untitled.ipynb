{
 "cells": [
  {
   "cell_type": "code",
   "execution_count": 1,
   "metadata": {},
   "outputs": [
    {
     "name": "stdout",
     "output_type": "stream",
     "text": [
      "** Created LCL dataset in 0.00s **\n"
     ]
    }
   ],
   "source": [
    "# this may take a few minutes..\n",
    "%run prep.py"
   ]
  },
  {
   "cell_type": "code",
   "execution_count": 2,
   "metadata": {},
   "outputs": [],
   "source": [
    "from prep import data_dir\n",
    "\n",
    "import dask\n",
    "import dask.dataframe\n",
    "from dask.distributed import Client\n",
    "import pandas as pd\n",
    "\n",
    "client = Client()"
   ]
  },
  {
   "cell_type": "code",
   "execution_count": 3,
   "metadata": {},
   "outputs": [],
   "source": [
    "columns = [\n",
    "    \"lclid\",\n",
    "    \"stdortou\",\n",
    "    \"dt\",\n",
    "    \"c\",\n",
    "    \"acorn\",\n",
    "    \"acorn_grouped\"\n",
    "]\n",
    "\n",
    "df = dask.dataframe.read_csv(\n",
    "    data_dir / \"low-carbon-london/*.csv\",\n",
    "    dtype={\n",
    "        \"lclid\": \"category\",\n",
    "        \"stdortou\": \"category\",\n",
    "        \"acorn\": \"category\",\n",
    "        \"acorn_grouped\": \"category\"\n",
    "    },\n",
    "    parse_dates=[\"dt\"],\n",
    "    names=columns,\n",
    "    header=0\n",
    ")\n",
    "\n",
    "df.c = (\n",
    "    df.c.map_partitions(pd.to_numeric, errors=\"coerce\", downcast=\"float\")\n",
    "    .fillna(0)\n",
    ")"
   ]
  },
  {
   "cell_type": "code",
   "execution_count": 4,
   "metadata": {},
   "outputs": [
    {
     "data": {
      "text/html": [
       "<div>\n",
       "<style scoped>\n",
       "    .dataframe tbody tr th:only-of-type {\n",
       "        vertical-align: middle;\n",
       "    }\n",
       "\n",
       "    .dataframe tbody tr th {\n",
       "        vertical-align: top;\n",
       "    }\n",
       "\n",
       "    .dataframe thead th {\n",
       "        text-align: right;\n",
       "    }\n",
       "</style>\n",
       "<table border=\"1\" class=\"dataframe\">\n",
       "  <thead>\n",
       "    <tr style=\"text-align: right;\">\n",
       "      <th></th>\n",
       "      <th>lclid</th>\n",
       "      <th>stdortou</th>\n",
       "      <th>dt</th>\n",
       "      <th>c</th>\n",
       "      <th>acorn</th>\n",
       "      <th>acorn_grouped</th>\n",
       "    </tr>\n",
       "  </thead>\n",
       "  <tbody>\n",
       "    <tr>\n",
       "      <th>73081</th>\n",
       "      <td>MAC004221</td>\n",
       "      <td>Std</td>\n",
       "      <td>2013-08-06 04:30:00</td>\n",
       "      <td>0.017</td>\n",
       "      <td>ACORN-E</td>\n",
       "      <td>Affluent</td>\n",
       "    </tr>\n",
       "    <tr>\n",
       "      <th>73082</th>\n",
       "      <td>MAC004221</td>\n",
       "      <td>Std</td>\n",
       "      <td>2013-08-06 05:00:00</td>\n",
       "      <td>0.017</td>\n",
       "      <td>ACORN-E</td>\n",
       "      <td>Affluent</td>\n",
       "    </tr>\n",
       "    <tr>\n",
       "      <th>73083</th>\n",
       "      <td>MAC004221</td>\n",
       "      <td>Std</td>\n",
       "      <td>2013-08-06 05:30:00</td>\n",
       "      <td>0.017</td>\n",
       "      <td>ACORN-E</td>\n",
       "      <td>Affluent</td>\n",
       "    </tr>\n",
       "    <tr>\n",
       "      <th>73084</th>\n",
       "      <td>MAC004221</td>\n",
       "      <td>Std</td>\n",
       "      <td>2013-08-06 06:00:00</td>\n",
       "      <td>0.017</td>\n",
       "      <td>ACORN-E</td>\n",
       "      <td>Affluent</td>\n",
       "    </tr>\n",
       "    <tr>\n",
       "      <th>73085</th>\n",
       "      <td>MAC004221</td>\n",
       "      <td>Std</td>\n",
       "      <td>2013-08-06 06:30:00</td>\n",
       "      <td>0.017</td>\n",
       "      <td>ACORN-E</td>\n",
       "      <td>Affluent</td>\n",
       "    </tr>\n",
       "  </tbody>\n",
       "</table>\n",
       "</div>"
      ],
      "text/plain": [
       "           lclid stdortou                  dt      c    acorn acorn_grouped\n",
       "73081  MAC004221      Std 2013-08-06 04:30:00  0.017  ACORN-E      Affluent\n",
       "73082  MAC004221      Std 2013-08-06 05:00:00  0.017  ACORN-E      Affluent\n",
       "73083  MAC004221      Std 2013-08-06 05:30:00  0.017  ACORN-E      Affluent\n",
       "73084  MAC004221      Std 2013-08-06 06:00:00  0.017  ACORN-E      Affluent\n",
       "73085  MAC004221      Std 2013-08-06 06:30:00  0.017  ACORN-E      Affluent"
      ]
     },
     "execution_count": 4,
     "metadata": {},
     "output_type": "execute_result"
    }
   ],
   "source": [
    "df.tail()"
   ]
  },
  {
   "cell_type": "code",
   "execution_count": 5,
   "metadata": {},
   "outputs": [
    {
     "name": "stdout",
     "output_type": "stream",
     "text": [
      "CPU times: user 7.36 s, sys: 702 ms, total: 8.06 s\n",
      "Wall time: 1min 29s\n"
     ]
    },
    {
     "data": {
      "text/plain": [
       "167932474"
      ]
     },
     "execution_count": 5,
     "metadata": {},
     "output_type": "execute_result"
    }
   ],
   "source": [
    "%%time\n",
    "len(df)"
   ]
  },
  {
   "cell_type": "code",
   "execution_count": 6,
   "metadata": {},
   "outputs": [
    {
     "name": "stdout",
     "output_type": "stream",
     "text": [
      "std: {std_}\n",
      "max: {max_}\n",
      "CPU times: user 10.4 s, sys: 874 ms, total: 11.3 s\n",
      "Wall time: 1min 38s\n"
     ]
    }
   ],
   "source": [
    "%%time\n",
    "std_, max_ = dask.compute(df.c.std(), df.c.max())\n",
    "print(\"std: {std_}\")\n",
    "print(\"max: {max_}\")"
   ]
  }
 ],
 "metadata": {
  "kernelspec": {
   "display_name": "Python 3",
   "language": "python",
   "name": "python3"
  },
  "language_info": {
   "codemirror_mode": {
    "name": "ipython",
    "version": 3
   },
   "file_extension": ".py",
   "mimetype": "text/x-python",
   "name": "python",
   "nbconvert_exporter": "python",
   "pygments_lexer": "ipython3",
   "version": "3.7.6"
  }
 },
 "nbformat": 4,
 "nbformat_minor": 4
}
